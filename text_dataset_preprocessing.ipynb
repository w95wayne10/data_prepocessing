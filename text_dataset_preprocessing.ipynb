{
 "cells": [
  {
   "cell_type": "code",
   "execution_count": 5,
   "metadata": {},
   "outputs": [
    {
     "name": "stderr",
     "output_type": "stream",
     "text": [
      "Building prefix dict from c:\\Users\\w95wa\\Workspace\\data_prepocessing\\model\\dict.txt.big ...\n",
      "Dumping model to file cache C:\\Users\\w95wa\\AppData\\Local\\Temp\\jieba.u7158e86d5425355f1166f40cb986196f.cache\n",
      "Loading model cost 1.083 seconds.\n",
      "Prefix dict has been built succesfully.\n"
     ]
    }
   ],
   "source": [
    "import pandas as pd\n",
    "import numpy as np\n",
    "import matplotlib.pyplot as plt\n",
    "\n",
    "import re\n",
    "\n",
    "import tool.jieba as jieba\n",
    "jieba.set_dictionary('model/dict.txt.big')\n",
    "jieba.load_userdict(\"model/userdict.txt\")"
   ]
  },
  {
   "cell_type": "code",
   "execution_count": 12,
   "metadata": {},
   "outputs": [],
   "source": [
    "from gensim.models import word2vec\n",
    "from gensim.similarities import MatrixSimilarity \n",
    "from gensim.matutils import Dense2Corpus"
   ]
  },
  {
   "cell_type": "code",
   "execution_count": null,
   "metadata": {},
   "outputs": [],
   "source": [
    "rwd = np.load('model/Rwd_l.npy', allow_pickle=True).item()\n",
    "\n",
    "http_part = \"[a-zA-Z]+\"\n",
    "main_part = \"[a-zA-Z0-9_]+(?:(?:\\.|-)[a-zA-Z0-9_]+)*\"\n",
    "sub_part =  \"(?:[\\+%\\.\\-a-zA-Z0-9_]*/?)*\"\n",
    "get_part = \"(?:&?[a-zA-Z0-9_]+(?:(?:\\.|-)[a-zA-Z0-9_]+)*\" + \"=\" + \"[\\+%\\.\\-a-zA-Z0-9_]*)*\"\n",
    "\n",
    "repl_URL = list(map(lambda x: re.sub(http_part+\"://\"+main_part+\"/?\"+sub_part+\"\\??\"+get_part,\" URL \",x),rwd.values()))\n",
    "stop_word = [' ', '，', '嗎', '請問', '有', '是', '提供', '什麼','您','的','呢','？','?','就','了','您好','目前','不好意思']\n",
    "temp = list(map(lambda ct: tuple(filter(lambda x: not x in stop_word ,(ch for ch in jieba.cut(ct)))), repl_URL))\n",
    "temp2 = list(map(lambda ct: tuple(filter(lambda x: x!=' ' ,(ch for ch in jieba.cut(ct)))), repl_URL))\n",
    "len(list(set(temp))),len(list(set(temp2)))\n",
    "listingContent = set(tuple(list(zip(temp,temp2))))\n",
    "\n",
    "# listingContent = list(filter(lambda ct: 30>len(list(filter(lambda ch: isChineseChr(ch), ct)))>4, listingContent))\n",
    "\n",
    "listingContent = list(filter(lambda ct: 30>len(ct[0])>2, listingContent))\n",
    "\n"
   ]
  },
  {
   "cell_type": "code",
   "execution_count": 14,
   "metadata": {},
   "outputs": [
    {
     "data": {
      "image/png": "[encoded data removed]",
      "text/plain": [
       "<Figure size 1296x288 with 1 Axes>"
      ]
     },
     "metadata": {
      "needs_background": "light"
     },
     "output_type": "display_data"
    }
   ],
   "source": [
    "plt.figure(figsize=(18,4))\n",
    "plt.ylim((3,30))\n",
    "plt.plot(sorted(list(map(lambda x: len(x[0]), listingContent))))\n",
    "plt.show()"
   ]
  },
  {
   "cell_type": "code",
   "execution_count": 16,
   "metadata": {},
   "outputs": [],
   "source": [
    "model = word2vec.Word2Vec(list(zip(* listingContent))[0], vector_size=128, min_count=0,sg=1,negative=5)\n",
    "model.save(\"word2vec.model\")"
   ]
  },
  {
   "cell_type": "code",
   "execution_count": 18,
   "metadata": {},
   "outputs": [],
   "source": [
    "lC2dic = {}\n",
    "for st in listingContent:\n",
    "    for wd in st[0]:\n",
    "        lC2dic[wd] = lC2dic.get(wd,0)+1"
   ]
  },
  {
   "cell_type": "code",
   "execution_count": 19,
   "metadata": {},
   "outputs": [],
   "source": [
    "wd_list = np.array(list(lC2dic.keys()))"
   ]
  },
  {
   "cell_type": "code",
   "execution_count": 23,
   "metadata": {},
   "outputs": [
    {
     "ename": "AttributeError",
     "evalue": "The vocab attribute was removed from KeyedVector in Gensim 4.0.0.\nUse KeyedVector's .key_to_index dict, .index_to_key list, and methods .get_vecattr(key, attr) and .set_vecattr(key, attr, new_val) instead.\nSee https://github.com/RaRe-Technologies/gensim/wiki/Migrating-from-Gensim-3.x-to-4",
     "output_type": "error",
     "traceback": [
      "\u001b[1;31m---------------------------------------------------------------------------\u001b[0m",
      "\u001b[1;31mAttributeError\u001b[0m                            Traceback (most recent call last)",
      "\u001b[1;32mc:\\Users\\w95wa\\Workspace\\data_prepocessing\\text_dataset_preprocessing.ipynb Cell 8'\u001b[0m in \u001b[0;36m<cell line: 1>\u001b[1;34m()\u001b[0m\n\u001b[1;32m----> <a href='vscode-notebook-cell:/c%3A/Users/w95wa/Workspace/data_prepocessing/text_dataset_preprocessing.ipynb#ch0000010?line=0'>1</a>\u001b[0m model\u001b[39m.\u001b[39;49mwv\u001b[39m.\u001b[39;49mvocab\n",
      "File \u001b[1;32mc:\\Users\\w95wa\\AppData\\Local\\Programs\\Python\\Python39\\lib\\site-packages\\gensim\\models\\keyedvectors.py:735\u001b[0m, in \u001b[0;36mKeyedVectors.vocab\u001b[1;34m(self)\u001b[0m\n\u001b[0;32m    <a href='file:///c%3A/Users/w95wa/AppData/Local/Programs/Python/Python39/lib/site-packages/gensim/models/keyedvectors.py?line=732'>733</a>\u001b[0m \u001b[39m@property\u001b[39m\n\u001b[0;32m    <a href='file:///c%3A/Users/w95wa/AppData/Local/Programs/Python/Python39/lib/site-packages/gensim/models/keyedvectors.py?line=733'>734</a>\u001b[0m \u001b[39mdef\u001b[39;00m \u001b[39mvocab\u001b[39m(\u001b[39mself\u001b[39m):\n\u001b[1;32m--> <a href='file:///c%3A/Users/w95wa/AppData/Local/Programs/Python/Python39/lib/site-packages/gensim/models/keyedvectors.py?line=734'>735</a>\u001b[0m     \u001b[39mraise\u001b[39;00m \u001b[39mAttributeError\u001b[39;00m(\n\u001b[0;32m    <a href='file:///c%3A/Users/w95wa/AppData/Local/Programs/Python/Python39/lib/site-packages/gensim/models/keyedvectors.py?line=735'>736</a>\u001b[0m         \u001b[39m\"\u001b[39m\u001b[39mThe vocab attribute was removed from KeyedVector in Gensim 4.0.0.\u001b[39m\u001b[39m\\n\u001b[39;00m\u001b[39m\"\u001b[39m\n\u001b[0;32m    <a href='file:///c%3A/Users/w95wa/AppData/Local/Programs/Python/Python39/lib/site-packages/gensim/models/keyedvectors.py?line=736'>737</a>\u001b[0m         \u001b[39m\"\u001b[39m\u001b[39mUse KeyedVector\u001b[39m\u001b[39m'\u001b[39m\u001b[39ms .key_to_index dict, .index_to_key list, and methods \u001b[39m\u001b[39m\"\u001b[39m\n\u001b[0;32m    <a href='file:///c%3A/Users/w95wa/AppData/Local/Programs/Python/Python39/lib/site-packages/gensim/models/keyedvectors.py?line=737'>738</a>\u001b[0m         \u001b[39m\"\u001b[39m\u001b[39m.get_vecattr(key, attr) and .set_vecattr(key, attr, new_val) instead.\u001b[39m\u001b[39m\\n\u001b[39;00m\u001b[39m\"\u001b[39m\n\u001b[0;32m    <a href='file:///c%3A/Users/w95wa/AppData/Local/Programs/Python/Python39/lib/site-packages/gensim/models/keyedvectors.py?line=738'>739</a>\u001b[0m         \u001b[39m\"\u001b[39m\u001b[39mSee https://github.com/RaRe-Technologies/gensim/wiki/Migrating-from-Gensim-3.x-to-4\u001b[39m\u001b[39m\"\u001b[39m\n\u001b[0;32m    <a href='file:///c%3A/Users/w95wa/AppData/Local/Programs/Python/Python39/lib/site-packages/gensim/models/keyedvectors.py?line=739'>740</a>\u001b[0m     )\n",
      "\u001b[1;31mAttributeError\u001b[0m: The vocab attribute was removed from KeyedVector in Gensim 4.0.0.\nUse KeyedVector's .key_to_index dict, .index_to_key list, and methods .get_vecattr(key, attr) and .set_vecattr(key, attr, new_val) instead.\nSee https://github.com/RaRe-Technologies/gensim/wiki/Migrating-from-Gensim-3.x-to-4"
     ]
    }
   ],
   "source": [
    "model.wv.vocab"
   ]
  },
  {
   "cell_type": "code",
   "execution_count": 24,
   "metadata": {},
   "outputs": [],
   "source": [
    "vt_list = np.array(list(map(lambda k: model.wv[k],wd_list)))"
   ]
  },
  {
   "cell_type": "code",
   "execution_count": 25,
   "metadata": {},
   "outputs": [
    {
     "data": {
      "text/plain": [
       "array([[ 0.19669802,  0.11536925,  0.23946902, ..., -0.19572103,\n",
       "        -0.19331962,  0.13483955],\n",
       "       [ 0.47630432, -0.30123103, -0.13458751, ..., -0.5192741 ,\n",
       "         0.03751205, -0.04734095],\n",
       "       [-0.265824  , -0.41481987,  0.20324759, ..., -0.34260213,\n",
       "        -0.00074508,  0.17486396],\n",
       "       ...,\n",
       "       [ 0.0537914 , -0.03365187,  0.01893811, ..., -0.01342981,\n",
       "        -0.01070716, -0.05644265],\n",
       "       [ 0.03149066, -0.08290169, -0.02003654, ..., -0.01955416,\n",
       "        -0.0411205 , -0.05114942],\n",
       "       [ 0.04321417, -0.0901835 ,  0.01720305, ..., -0.01796239,\n",
       "        -0.03086703, -0.09159239]], dtype=float32)"
      ]
     },
     "execution_count": 25,
     "metadata": {},
     "output_type": "execute_result"
    }
   ],
   "source": [
    "vt_list"
   ]
  }
 ],
 "metadata": {
  "interpreter": {
   "hash": "efe65ec4d254c377d63558febf6123f331f3c10570a43a04dd58e32ae0722751"
  },
  "kernelspec": {
   "display_name": "Python 3.9.5 64-bit",
   "language": "python",
   "name": "python3"
  },
  "language_info": {
   "codemirror_mode": {
    "name": "ipython",
    "version": 3
   },
   "file_extension": ".py",
   "mimetype": "text/x-python",
   "name": "python",
   "nbconvert_exporter": "python",
   "pygments_lexer": "ipython3",
   "version": "3.9.5"
  },
  "orig_nbformat": 4
 },
 "nbformat": 4,
 "nbformat_minor": 2
}
