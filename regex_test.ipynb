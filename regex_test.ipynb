{
 "cells": [
  {
   "cell_type": "markdown",
   "metadata": {},
   "source": [
    "# Regular Expression Test\n",
    "\n",
    "* 形式列舉\n",
    "* FP、FN的情況列舉並設法避免\n",
    "* 案例收集"
   ]
  },
  {
   "cell_type": "code",
   "execution_count": 1,
   "metadata": {},
   "outputs": [],
   "source": [
    "import re"
   ]
  },
  {
   "cell_type": "markdown",
   "metadata": {},
   "source": [
    "## URL\n",
    "\n",
    "* [中文議題](https://stackoverflow.com/questions/34587346/python-check-if-a-string-contains-chinese-character)\n",
    "* 結尾沒有空格目前看來無法處理\n",
    "* [字元範圍講解](https://www.796t.com/content/1547754501.html)\n",
    "\n"
   ]
  },
  {
   "cell_type": "code",
   "execution_count": 2,
   "metadata": {},
   "outputs": [],
   "source": [
    "http_part = r\"http://[a-zA-Z0-9\\./_]+\" # from http://ccckmit.wikidot.com/regularexpression"
   ]
  }
 ],
 "metadata": {
  "interpreter": {
   "hash": "d4fc967087f706f927e688575620a05113d5c56e4d40ea7d692bf5414d5fa4ac"
  },
  "kernelspec": {
   "display_name": "Python 3.9.5 64-bit",
   "language": "python",
   "name": "python3"
  },
  "language_info": {
   "codemirror_mode": {
    "name": "ipython",
    "version": 3
   },
   "file_extension": ".py",
   "mimetype": "text/x-python",
   "name": "python",
   "nbconvert_exporter": "python",
   "pygments_lexer": "ipython3",
   "version": "3.9.5"
  },
  "orig_nbformat": 4
 },
 "nbformat": 4,
 "nbformat_minor": 2
}
